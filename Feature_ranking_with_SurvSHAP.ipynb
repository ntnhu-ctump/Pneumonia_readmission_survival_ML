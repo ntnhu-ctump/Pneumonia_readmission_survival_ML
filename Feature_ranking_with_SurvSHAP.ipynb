{
  "cells": [
    {
      "cell_type": "markdown",
      "id": "1fcd5d3f",
      "metadata": {
        "id": "1fcd5d3f"
      },
      "source": [
        "# Load packages"
      ]
    },
    {
      "cell_type": "code",
      "execution_count": null,
      "id": "0f8156f9",
      "metadata": {
        "id": "0f8156f9"
      },
      "outputs": [],
      "source": [
        "import numpy as np\n",
        "import pandas as pd\n",
        "import seaborn as sns\n",
        "import matplotlib.pyplot as plt\n",
        "%matplotlib inline\n",
        "from sklearn.model_selection import train_test_split, cross_val_score\n",
        "from sklearn.model_selection import StratifiedKFold, RepeatedStratifiedKFold\n",
        "from sklearn.model_selection import ShuffleSplit, GridSearchCV\n",
        "from sksurv.preprocessing import OneHotEncoder\n",
        "from sklearn.pipeline import make_pipeline, Pipeline\n",
        "from sklearn.utils import resample\n",
        "from sksurv.util import Surv\n",
        "from sksurv.kernels import clinical_kernel\n",
        "from sklearn import set_config\n",
        "\n",
        "from sklearn.metrics import make_scorer\n",
        "from sksurv.metrics import concordance_index_censored\n",
        "from sksurv.metrics import concordance_index_ipcw\n",
        "from sksurv.metrics import cumulative_dynamic_auc\n",
        "from sksurv.metrics import integrated_brier_score\n",
        "import shap\n",
        "from sksurv.linear_model import CoxPHSurvivalAnalysis, CoxnetSurvivalAnalysis\n",
        "from sksurv.ensemble import GradientBoostingSurvivalAnalysis\n",
        "from sksurv.svm import FastKernelSurvivalSVM, FastSurvivalSVM\n",
        "from sksurv.ensemble import RandomSurvivalForest\n",
        "from sksurv.tree import SurvivalTree\n",
        "import shap\n",
        "import pickle\n",
        "import time\n",
        "from sklearn.experimental import enable_iterative_imputer\n",
        "from sklearn.impute import IterativeImputer\n",
        "from sklearn.ensemble import  RandomForestRegressor"
      ]
    },
    {
      "cell_type": "code",
      "execution_count": null,
      "id": "393822bb",
      "metadata": {
        "id": "393822bb"
      },
      "outputs": [],
      "source": [
        "import pandas as pd\n",
        "from sklearn.model_selection import train_test_split"
      ]
    },
    {
      "cell_type": "markdown",
      "id": "4483914a",
      "metadata": {
        "id": "4483914a"
      },
      "source": [
        "# Define several functions used in the project"
      ]
    },
    {
      "cell_type": "code",
      "execution_count": null,
      "id": "ce1483b0",
      "metadata": {
        "id": "ce1483b0"
      },
      "outputs": [],
      "source": [
        "def score_survival_model(model, X, y):\n",
        "    prediction = model.predict(X)\n",
        "    result = concordance_index_censored(y[\"event\"], y[\"time\"], prediction)\n",
        "    return result[0]\n",
        "\n",
        "from sklearn.model_selection import KFold\n",
        "from sklearn.utils import resample\n",
        "from sksurv.metrics import concordance_index_censored, cumulative_dynamic_auc, integrated_brier_score"
      ]
    },
    {
      "cell_type": "markdown",
      "id": "81f6ff60",
      "metadata": {
        "id": "81f6ff60"
      },
      "source": [
        "## SurvSHAP explanation"
      ]
    },
    {
      "cell_type": "code",
      "execution_count": null,
      "id": "919427fc",
      "metadata": {
        "id": "919427fc"
      },
      "outputs": [],
      "source": [
        "from survshap import SurvivalModelExplainer,ModelSurvSHAP\n",
        "from sksurv.ensemble import RandomSurvivalForest\n",
        "\n",
        "\n",
        "\n",
        "RVF_best = RandomSurvivalForest(min_samples_leaf = 20, min_samples_split = 2,\n",
        "                                max_features = 'log2',\n",
        "                                n_estimators = 1000,\n",
        "                                random_state = 42)\n",
        "model = RVF_best\n",
        "model.fit(X_test_encoded, y_test)\n",
        "\n",
        "# create explainer\n",
        "explainer = SurvivalModelExplainer(model = model, data = X_test_encoded, y = y_test)\n",
        "\n",
        "\n",
        "# compute SHAP values for a group of instances\n",
        "model_survshap = ModelSurvSHAP(calculation_method=\"sampling\", random_state = 42, B=10)\n",
        "model_survshap.fit(explainer = explainer, new_observations = X_test_encoded)\n",
        "model_survshap.result\n",
        "model_survshap.plot_mean_abs_shap_values()"
      ]
    },
    {
      "cell_type": "code",
      "execution_count": null,
      "id": "2903749e",
      "metadata": {
        "id": "2903749e"
      },
      "outputs": [],
      "source": [
        "model_survshap.result"
      ]
    }
  ],
  "metadata": {
    "kernelspec": {
      "display_name": "Python 3 (ipykernel)",
      "language": "python",
      "name": "python3"
    },
    "language_info": {
      "codemirror_mode": {
        "name": "ipython",
        "version": 3
      },
      "file_extension": ".py",
      "mimetype": "text/x-python",
      "name": "python",
      "nbconvert_exporter": "python",
      "pygments_lexer": "ipython3",
      "version": "3.9.15"
    },
    "colab": {
      "provenance": []
    }
  },
  "nbformat": 4,
  "nbformat_minor": 5
}